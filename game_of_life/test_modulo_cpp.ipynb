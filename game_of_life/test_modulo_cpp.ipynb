{
 "cells": [
  {
   "cell_type": "markdown",
   "id": "9e9095ee-bbb1-4ca2-bc8c-4f94f7d8471f",
   "metadata": {},
   "source": [
    "# Test du fonctionnement de l'opérateur `%` en C++"
   ]
  },
  {
   "cell_type": "code",
   "execution_count": 1,
   "id": "305c4c33-9d81-4db4-9465-00cbf0f38d40",
   "metadata": {},
   "outputs": [],
   "source": [
    "#include <iostream>"
   ]
  },
  {
   "cell_type": "code",
   "execution_count": 2,
   "id": "da24227e-9b51-470b-ac6c-071610cc001e",
   "metadata": {},
   "outputs": [],
   "source": [
    "int i = -1;"
   ]
  },
  {
   "cell_type": "code",
   "execution_count": 3,
   "id": "078e9a21-7b9d-40f8-b812-d4c82d71a864",
   "metadata": {},
   "outputs": [
    {
     "data": {
      "text/plain": [
       "-1"
      ]
     },
     "execution_count": 3,
     "metadata": {},
     "output_type": "execute_result"
    }
   ],
   "source": [
    "i"
   ]
  },
  {
   "cell_type": "code",
   "execution_count": 4,
   "id": "bb2c71ee-347c-41ae-b58c-25ec794bee3c",
   "metadata": {},
   "outputs": [
    {
     "data": {
      "text/plain": [
       "-1"
      ]
     },
     "execution_count": 4,
     "metadata": {},
     "output_type": "execute_result"
    }
   ],
   "source": [
    "i%4"
   ]
  },
  {
   "cell_type": "code",
   "execution_count": 5,
   "id": "d62f9f00-effe-4a29-ab0a-a8e6e80e38ce",
   "metadata": {},
   "outputs": [],
   "source": [
    "int imod4 = i%4;"
   ]
  },
  {
   "cell_type": "code",
   "execution_count": 6,
   "id": "1c38c7f5-e74d-42d1-ade3-250fa927da42",
   "metadata": {},
   "outputs": [
    {
     "data": {
      "text/plain": [
       "-1"
      ]
     },
     "execution_count": 6,
     "metadata": {},
     "output_type": "execute_result"
    }
   ],
   "source": [
    "imod4"
   ]
  },
  {
   "cell_type": "code",
   "execution_count": 7,
   "id": "5224af02-9fb7-46ab-ad5e-3bc0e285834b",
   "metadata": {},
   "outputs": [
    {
     "name": "stdout",
     "output_type": "stream",
     "text": [
      "-1\n"
     ]
    }
   ],
   "source": [
    "int a = 0;\n",
    "std::cout<<(a-1)%4<<std::endl;"
   ]
  },
  {
   "cell_type": "code",
   "execution_count": null,
   "id": "9d1dc79a-f70d-4e00-b5a7-0d4a617a6b68",
   "metadata": {},
   "outputs": [],
   "source": []
  },
  {
   "cell_type": "markdown",
   "id": "7d4a89f7-06cf-4f69-b4c9-75c0de60423e",
   "metadata": {},
   "source": [
    "On n'a donc pas de fonctionnement \"mathématique\" de `%` _i.e._ il va renvoyer `-1` quand on calcule `-1%10` au lieu de `9`.\n",
    "\n",
    "Il nous faut donc définir une fonction`mod` qui fonctionne comme attendu: "
   ]
  },
  {
   "cell_type": "code",
   "execution_count": 8,
   "id": "0f9def14-2d06-402c-a99a-96afc7eb1456",
   "metadata": {},
   "outputs": [],
   "source": [
    " inline int mod(int a, int b) {int ret = a%b; return ret>=0? ret: ret+b; }"
   ]
  },
  {
   "cell_type": "code",
   "execution_count": 9,
   "id": "47b54673-c0ff-4181-b087-b825698ed5ca",
   "metadata": {},
   "outputs": [
    {
     "data": {
      "text/plain": [
       "3"
      ]
     },
     "execution_count": 9,
     "metadata": {},
     "output_type": "execute_result"
    }
   ],
   "source": [
    "mod((a-1), 4)"
   ]
  },
  {
   "cell_type": "code",
   "execution_count": 10,
   "id": "6781d998-076f-4d41-9b23-b7b6853672eb",
   "metadata": {},
   "outputs": [
    {
     "data": {
      "text/plain": [
       "8"
      ]
     },
     "execution_count": 10,
     "metadata": {},
     "output_type": "execute_result"
    }
   ],
   "source": [
    "mod(a-2, 10)"
   ]
  },
  {
   "cell_type": "code",
   "execution_count": 11,
   "id": "adverse-retro",
   "metadata": {},
   "outputs": [
    {
     "data": {
      "text/plain": [
       "8"
      ]
     },
     "execution_count": 11,
     "metadata": {},
     "output_type": "execute_result"
    }
   ],
   "source": [
    "mod(-22, 10)"
   ]
  },
  {
   "cell_type": "code",
   "execution_count": 12,
   "id": "e3aa2139-d088-4d02-ab89-829414d8081a",
   "metadata": {},
   "outputs": [
    {
     "data": {
      "text/plain": [
       "-2"
      ]
     },
     "execution_count": 12,
     "metadata": {},
     "output_type": "execute_result"
    }
   ],
   "source": [
    "-22%10"
   ]
  },
  {
   "cell_type": "markdown",
   "id": "8eaa89e6-43be-4a03-be42-abf34886370d",
   "metadata": {},
   "source": [
    "La nouvelle fonction fait bien ce que l'on voulait :)"
   ]
  }
 ],
 "metadata": {
  "kernelspec": {
   "display_name": "C++17",
   "language": "C++17",
   "name": "xcpp17"
  },
  "language_info": {
   "codemirror_mode": "text/x-c++src",
   "file_extension": ".cpp",
   "mimetype": "text/x-c++src",
   "name": "c++",
   "version": "17"
  }
 },
 "nbformat": 4,
 "nbformat_minor": 5
}